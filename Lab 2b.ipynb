{
 "cells": [
  {
   "cell_type": "markdown",
   "metadata": {},
   "source": [
    "# Lab 2B: Functional programming, and declarative patterns\n"
   ]
  },
  {
   "cell_type": "markdown",
   "metadata": {},
   "source": [
    "__Student:__ jiawu449 (Jiawei Wu)\n",
    "\n",
    "__Student:__ vinbe289 (Vinay Bengaluru Ashwath Narayan Murthy)"
   ]
  },
  {
   "cell_type": "markdown",
   "metadata": {},
   "source": [
    "Disclaimer: Functional programming in Python does not always lead to the fastest possible code, and is often not considered the *pythonic* approach. However, functional programming is the basis for many concurrent systems (the MapReduce programming model which many big data systems, e.g. Hadoop, relies on gets its name from the *map* and *reduce* functions mentioned below). Python is a multi-paradigm language, and functional programming is one of the main paradigms one can use. To understand how and when to do this, it is necessary to do things in a non-*pythonic* way in order to cover the basics."
   ]
  },
  {
   "cell_type": "markdown",
   "metadata": {},
   "source": [
    "## General instructions\n",
    "\n",
    "In this lab there are some general rules you should keep in mind to make sure you are on the correct path in your solutions.\n",
    "\n",
    "#### Rules\n",
    "1. You are not allowed to use `while` or `for` statements unless this is explicitly allowed in the task.\n",
    "2. You are not allowed to use global variables (other than for functions defined in the global environment).\n",
    "3. Code stubs should be viewed as fixed, you are only allowed to add code, the only code you are allowed to change is `pass` statements, which you should remove.\n",
    "4. You should refrain from using the `list` datatype unless otherwise specified and instead use `tuple`. One of the strengths of functional programming is its focus on immutable data types (this is why functional programming and concurrency goes so well together). Incidentally, one might find speedups when using the immutable tuples instead of lists.\n",
    "\n",
    "#### Advice\n",
    "1. Avoid local variables unless you are certain they are necessary, in most cases you won't need to use local variables. (altermatively, use local variables to your hearts content, but when your solution works, try to eliminate them, you should be able to eliminate most of them, over time, you might find that you don't need them.)"
   ]
  },
  {
   "cell_type": "markdown",
   "metadata": {},
   "source": [
    "# 2 Recursion\n",
    "\n",
    "As an introduction to linear recursion, read the introductory note on the course webpage. This might help explain terms that you may not know (even if the concept is previously known)."
   ]
  },
  {
   "cell_type": "markdown",
   "metadata": {},
   "source": [
    "## 2.1 Linear recursion"
   ]
  },
  {
   "cell_type": "markdown",
   "metadata": {},
   "source": [
    "a) Write a recursive function `sum_even(n)` that takes a natural number $n\\geq 0$ and returns the sum of all even numbers $0,...,n$. It should be linear-recursive with delayed computations."
   ]
  },
  {
   "cell_type": "code",
   "execution_count": 27,
   "metadata": {},
   "outputs": [],
   "source": [
    "def sum_even(n):\n",
    "        if n==0:\n",
    "            return 0\n",
    "        elif n%2==0:\n",
    "            return sum_even(n-2)+n\n",
    "        elif n%2==1:\n",
    "            return sum_even(n-1) "
   ]
  },
  {
   "cell_type": "code",
   "execution_count": 28,
   "metadata": {},
   "outputs": [
    {
     "data": {
      "text/plain": [
       "6"
      ]
     },
     "execution_count": 28,
     "metadata": {},
     "output_type": "execute_result"
    }
   ],
   "source": [
    "sum_even(5)"
   ]
  },
  {
   "cell_type": "markdown",
   "metadata": {},
   "source": [
    "b) Write `sum_even_it(n)` according to the same specification. In this case, the solution should be tail recursive."
   ]
  },
  {
   "cell_type": "code",
   "execution_count": 25,
   "metadata": {},
   "outputs": [],
   "source": [
    "def sum_even_it(n , res=0):\n",
    "    if not n:\n",
    "        return res\n",
    "    elif n%2==0:\n",
    "        return sum_even_it(n-2,res+n)\n",
    "    elif n%2==1:\n",
    "        return sum_even_it(n-1,res)"
   ]
  },
  {
   "cell_type": "code",
   "execution_count": 26,
   "metadata": {},
   "outputs": [
    {
     "data": {
      "text/plain": [
       "2"
      ]
     },
     "execution_count": 26,
     "metadata": {},
     "output_type": "execute_result"
    }
   ],
   "source": [
    "sum_even_it(3)"
   ]
  },
  {
   "cell_type": "markdown",
   "metadata": {},
   "source": [
    "c) We can of course express this in a declarative and Pythonic way, which is non-recursive. Write a function `sum_even_py` which returns the same result as above, but using comprehension or filter/map/reduce construct."
   ]
  },
  {
   "cell_type": "code",
   "execution_count": 103,
   "metadata": {},
   "outputs": [],
   "source": [
    "def sum_even_py(n,res=0):\n",
    "    for i in range(n+1):\n",
    "        if i%2==0:\n",
    "            res=res+i\n",
    "    return res\n",
    "pass"
   ]
  },
  {
   "cell_type": "code",
   "execution_count": 104,
   "metadata": {},
   "outputs": [
    {
     "data": {
      "text/plain": [
       "6"
      ]
     },
     "execution_count": 104,
     "metadata": {},
     "output_type": "execute_result"
    }
   ],
   "source": [
    "sum_even_py(5)"
   ]
  },
  {
   "cell_type": "markdown",
   "metadata": {},
   "source": [
    "## 2.2 Double/tree recursion"
   ]
  },
  {
   "cell_type": "markdown",
   "metadata": {},
   "source": [
    "Sometimes we might find ourselves with branching structures, where there are several \"smaller\" cases to recurse over. This might for instance be the case when we have trees, lists-within-lists or the like."
   ]
  },
  {
   "cell_type": "markdown",
   "metadata": {},
   "source": [
    "[Note: In the tasks below, it might be helpful to gain an understanding of `isinstance`. See the documentation!]"
   ]
  },
  {
   "cell_type": "markdown",
   "metadata": {},
   "source": [
    "a) One common use of recursion is to traverse recursive data structures. One exercise might be to _flatten_ nested lists or tuples. This is relatively simple with only one level of nesting, or when the structure follows a strict pattern, but for arbitrary nested sequences, a recursive approach is more natural. Implement a recursive function `myflatten` which can take an arbitrary structure of nested tuples and flattens it (in the sense of returning a new non-nested tuple with the same elements in the same order)."
   ]
  },
  {
   "cell_type": "code",
   "execution_count": 50,
   "metadata": {},
   "outputs": [],
   "source": [
    "def myflatten(seq):\n",
    "    if not isinstance(seq,tuple): return (seq,)\n",
    "    elif len(seq) == 0: return ()\n",
    "    else: return myflatten(seq[0]) + myflatten(seq[1:]) \n",
    "    pass\n",
    "\n",
    "def test_myflatten():\n",
    "    tests = (\n",
    "     ((), (), \"the empty tuple\"), \n",
    "     ((1,2,3), (1,2,3), \"flat tuples invariant under flattening\"), \n",
    "     ( (1, (2), 3, (4, 5, (6), 7), 8), (1, 2, 3, 4, 5, 6, 7, 8), \"Arbitrarily nested tuples.\")\n",
    "    )\n",
    "    for arg, expected_output, error_msg in tests:\n",
    "        assert myflatten(arg) == expected_output, error_msg\n",
    "\n",
    "test_myflatten()    # Uncomment this line to run tests."
   ]
  },
  {
   "cell_type": "code",
   "execution_count": 53,
   "metadata": {},
   "outputs": [
    {
     "data": {
      "text/plain": [
       "True"
      ]
     },
     "execution_count": 53,
     "metadata": {},
     "output_type": "execute_result"
    }
   ],
   "source": [
    "seq=(1, (2), 3, (4, 5, (6), 7), 8)\n",
    "2 in myflatten(seq)"
   ]
  },
  {
   "cell_type": "markdown",
   "metadata": {},
   "source": [
    "b) Implement a function `exists_in(e, seq)` which returns `True` if the element `e` exists somewhere in the tuple `seq` (and `False` otherwise). `seq` might be nested and contain tuples-within-tuples."
   ]
  },
  {
   "cell_type": "code",
   "execution_count": 60,
   "metadata": {},
   "outputs": [],
   "source": [
    "def exists_in(e, seq):\n",
    "    seq=myflatten(seq)\n",
    "    return e in seq\n",
    "    pass"
   ]
  },
  {
   "cell_type": "code",
   "execution_count": 62,
   "metadata": {},
   "outputs": [
    {
     "data": {
      "text/plain": [
       "False"
      ]
     },
     "execution_count": 62,
     "metadata": {},
     "output_type": "execute_result"
    }
   ],
   "source": [
    "exists_in(0,(1, (2), 3, (4, 5, (6), 7), 8))"
   ]
  },
  {
   "cell_type": "markdown",
   "metadata": {},
   "source": [
    "c) Write a few representative test cases, as in lab 2A."
   ]
  },
  {
   "cell_type": "code",
   "execution_count": 73,
   "metadata": {},
   "outputs": [
    {
     "name": "stdout",
     "output_type": "stream",
     "text": [
      "--- test finished successfully\n"
     ]
    }
   ],
   "source": [
    "def test_find_anywhere():\n",
    "    tests = (\n",
    "     (((),1), False, \"The empty seq cannot include anything\"), \n",
    "     ((1, (1,2,3)),True, \"element exists are not recognized by function\"), \n",
    "     ((0, (1, (2), 3, (4, 5, (6), 7), 8)),False, \"element not exists are mis-recognized by function.\")\n",
    "    )\n",
    "    for args, expected_output, error_msg in tests:\n",
    "        assert exists_in(*args) == expected_output, error_msg\n",
    "    print(\"--- test finished successfully\")\n",
    "\n",
    "test_find_anywhere()"
   ]
  },
  {
   "cell_type": "markdown",
   "metadata": {},
   "source": [
    "d) One of the most famous recursive functions is the Quicksort function (https://en.wikipedia.org/wiki/Quicksort). It allows us to sort a sequence, with repeated values, in (amortized) log-linear time and with a logarithmic number of recursive calls. We will start by implementing Quicksort for a tuple of numbers.\n",
    "\n",
    "Note that Wikipedia illustrates a more advanced _in-place_ version of Quicksort, with a more advanced partition function. For the purposes of this assignment, you can simply pass a new tuple or generator to each recursive call to quicksort. You may use eg _filter_ or a comprehension to create the inputs."
   ]
  },
  {
   "cell_type": "code",
   "execution_count": 63,
   "metadata": {},
   "outputs": [
    {
     "data": {
      "text/plain": [
       "4"
      ]
     },
     "execution_count": 63,
     "metadata": {},
     "output_type": "execute_result"
    }
   ],
   "source": [
    "seq=(1,2,3,4,5)\n",
    "choice(seq)"
   ]
  },
  {
   "cell_type": "code",
   "execution_count": 140,
   "metadata": {},
   "outputs": [
    {
     "name": "stdout",
     "output_type": "stream",
     "text": [
      "(1531, 1122, 1872, 1049, 1793, 1955, 1969, 1343, 1169, 1698, 1270, 1959, 1380, 1817, 1204, 1227, 1512, 1102, 1944, 1314, 1377, 1255, 1003, 1515, 1494, 1586, 1632, 1945, 1431, 1795, 1047, 1688, 1269, 1882, 1868, 1465, 1573, 1883, 1012, 1153, 1653, 1548, 1463, 1190, 1412, 1235, 1913, 1039, 1489, 1899, 1570, 1879, 1638, 1187, 1367, 1950, 1064, 1434, 1829, 1848, 1031, 1609, 1724, 1411, 1659, 1441, 1909, 1485, 1385, 1191, 1514, 1375, 1183, 1391, 1850, 1126, 1646, 1058, 1136, 1782, 1554, 1277, 1702, 1551, 1035, 1505, 1690, 1148, 1458, 1288, 1592, 1436, 1811, 1464, 1177, 1473, 1461, 1276, 1946, 1808, 1292, 1168, 1566, 1952, 1360, 1996, 1541, 1159, 1336, 1800, 1282, 1933, 1941, 1926, 1575, 1971, 1400, 1430, 1611, 1238, 1272, 1230, 1727, 1287, 1084, 1964, 1188, 1511, 1217, 1215, 1508, 1623, 1257, 1242, 1510, 1152, 1056, 1260, 1021, 1873, 1932, 1364, 1016, 1027, 1549, 1059, 1116, 1077, 1766, 1797, 1775, 1454, 1459, 1550, 1844, 1403, 1779, 1000, 1267, 1344, 1399, 1803, 1181, 1386, 1110, 1085, 1948, 1244, 1176, 1684, 1273, 1104, 1359, 1900, 1246, 1994, 1020, 1418, 1935, 1224, 1755, 1767, 1127, 1291, 1834, 1917, 1937, 1898, 1650, 1482, 1402, 1819, 1478, 1558, 1023, 1328, 1503, 1771, 1225, 1070, 1604, 1504, 1145, 1675, 1180, 1707, 1450, 1799, 1977, 1332, 1448, 1666, 1389, 1195, 1867, 1413, 1067, 1843, 1128, 1310, 1713, 1730, 1833, 1651, 1022, 1851, 1382, 1397, 1232, 1526, 1597, 1636, 1580, 1131, 1726, 1213, 1480, 1840, 1818, 1874, 1768, 1093, 1701, 1816, 1770, 1764, 1051, 1293, 1596, 1751, 1891, 1139, 1379, 1208, 1521, 1896, 1694, 1479, 1130, 1368, 1733, 1617, 1949, 1144, 1362, 1759, 1474, 1484, 1785, 1897, 1140, 1299, 1536, 1334, 1920, 1346, 1790, 1523, 1562, 1643, 1349, 1674, 1034, 1972, 1744, 1033, 1837, 1729, 1185, 1740, 1595, 1445, 1353, 1700, 1934, 1499, 1875, 1429, 1919, 1711, 1198, 1475, 1165, 1322, 1522, 1231, 1634, 1719, 1854, 1361, 1699, 1090, 1722, 1096, 1582, 1880, 1410, 1980, 1158, 1692, 1835, 1639, 1590, 1953, 1045, 1493, 1626, 1350, 1864, 1114, 1150, 1983, 1842, 1309, 1533, 1068, 1120, 1928, 1409, 1495, 1265, 1174, 1916, 1095, 1274, 1962, 1038, 1111, 1960, 1796, 1857, 1584, 1427, 1107, 1915, 1298, 1939, 1825, 1179, 1845, 1728, 1428, 1074, 1697, 1908, 1681, 1248, 1824, 1384, 1449, 1890, 1296, 1828, 1680, 1859, 1490, 1778, 1417, 1457, 1218, 1312, 1098, 1006, 1060, 1103, 1396, 1444, 1497, 1376, 1048, 1567, 1319, 1356, 1163, 1776, 1392, 1668, 1019, 1509, 1569, 1648, 1337, 1631, 1057, 1630, 1682, 1001, 1422, 1929, 1633, 1517, 1013, 1579, 1676, 1954, 1101, 1537, 1557, 1619, 1612, 1106, 1352, 1568, 1028, 1773, 1849, 1378, 1753, 1852, 1162, 1390, 1258, 1446, 1814, 1830, 1786, 1491, 1970, 1008, 1754, 1154, 1993, 1155, 1703, 1532, 1936, 1317, 1129, 1373, 1507, 1143, 1007, 1052, 1280, 1040, 1365, 1351, 1209, 1290, 1780, 1963, 1856, 1297, 1492, 1901, 1613, 1591, 1788, 1157, 1577, 1460, 1924, 1757, 1658, 1383, 1826, 1105, 1216, 1855, 1696, 1405, 1189, 1860, 1525, 1472, 1419, 1605, 1990, 1847, 1588, 1940, 1927, 1278, 1801, 1991, 1184, 1695, 1598, 1892, 1534, 1687, 1528, 1063, 1081, 1988, 1108, 1670, 1804, 1976, 1186, 1705, 1207, 1024, 1363, 1731, 1222, 1714, 1220, 1501, 1863, 1878, 1813, 1197, 1664, 1552, 1082, 1923, 1370, 1654, 1708, 1160, 1589, 1599, 1138, 1134, 1734, 1519, 1219, 1041, 1065, 1903, 1318, 1756, 1243, 1543, 1061, 1121, 1295, 1995, 1704, 1866, 1452, 1645, 1212, 1982, 1275, 1887, 1315, 1046, 1398, 1083, 1210, 1914, 1784, 1665, 1486, 1951, 1709, 1718, 1652, 1451, 1112, 1286, 1433, 1425, 1113, 1869, 1358, 1196, 1032, 1149, 1394, 1540, 1462, 1327, 1241, 1072, 1738, 1689, 1233, 1777, 1423, 1720, 1572, 1192, 1518, 1005, 1647, 1259, 1732, 1302, 1313, 1614, 1805, 1881, 1772, 1564, 1966, 1583, 1214, 1073, 1466, 1886, 1683, 1807, 1520, 1010, 1621, 1087, 1329, 1294, 1958, 1607, 1555, 1357, 1089, 1553, 1815, 1663, 1746, 1644, 1791, 1907, 1004, 1146, 1717, 1832, 1311, 1747, 1283, 1333, 1865, 1618, 1469, 1335, 1912, 1998, 1374, 1226, 1973, 1118, 1992, 1432, 1338, 1603, 1301, 1758, 1628, 1574, 1100, 1750, 1281, 1905, 1673, 1268, 1408, 1211, 1677, 1236, 1802, 1170, 1943, 1762, 1094, 1476, 1303, 1581, 1761, 1342, 1054, 1500, 1075, 1957, 1885, 1037, 1594, 1545, 1895, 1721, 1783, 1355, 1439, 1175, 1641, 1477, 1050, 1736, 1986, 1831, 1307, 1069, 1884, 1723, 1752, 1178, 1249, 1635, 1578, 1099, 1387, 1760, 1437, 1407, 1513, 1749, 1009, 1870, 1765, 1261, 1742, 1889, 1625, 1910, 1014, 1606, 1223, 1615, 1015, 1488, 1124, 1563, 1271, 1467, 1421, 1997, 1142, 1524, 1610, 1655, 1544, 1416, 1968, 1078, 1715, 1252, 1556, 1967, 1076, 1565, 1542, 1348, 1745, 1202, 1669, 1141, 1823, 1018, 1339, 1989, 1546, 1841, 1956, 1017, 1133, 1401, 1671, 1810, 1091, 1685, 1560, 1894, 1200, 1125, 1481, 1985, 1712, 1930, 1205, 1453, 1483, 1601, 1888, 1642, 1539, 1627, 1055, 1961, 1836, 1789, 1624, 1547, 1266, 1893, 1616, 1735, 1938, 1369, 1435, 1043, 1156, 1304, 1741, 1080, 1862, 1827, 1237, 1637, 1306, 1922, 1438, 1254, 1527, 1656, 1161, 1308, 1649, 1324, 1921, 1071, 1471, 1593, 1042, 1285, 1679, 1406, 1858, 1123, 1132, 1415, 1657, 1487, 1201, 1289, 1585, 1011, 1792, 1347, 1838, 1326, 1066, 1345, 1164, 1468, 1262, 1025, 1393, 1420, 1877, 1839, 1414, 1424, 1173, 1763, 1404, 1871, 1229, 1026, 1340, 1264, 1571, 1240, 1502, 1331, 1036, 1496, 1561, 1247, 1172, 1975, 1388, 1086, 1395, 1171, 1044, 1691, 1443, 1662, 1354, 1608, 1620, 1821, 1806, 1305, 1902, 1470, 1206, 1602, 1203, 1781, 1925, 1341, 1119, 1706, 1622, 1115, 1029, 1221, 1739, 1661, 1853, 1053, 1250, 1097, 1498, 1974, 1743, 1321, 1737, 1918, 1693, 1861, 1911, 1798, 1965, 1600, 1640, 1748, 1660, 1979, 1978, 1284, 1931, 1447, 1194, 1725, 1456, 1576, 1822, 1686, 1253, 1530, 1117, 1372, 1906, 1234, 1151, 1820, 1381, 1812, 1809, 1263, 1984, 1987, 1166, 1002, 1147, 1109, 1769, 1794, 1904, 1092, 1135, 1587, 1947, 1137, 1672, 1228, 1787, 1330, 1316, 1323, 1981, 1716, 1245, 1876, 1251, 1426, 1239, 1320, 1506, 1535, 1030, 1710, 1300, 1167, 1279, 1442, 1371, 1079, 1199, 1366, 1559, 1256, 1455, 1193, 1678, 1846, 1062, 1774, 1440, 1325, 1516, 1529, 1182, 1942, 1538, 1667, 1088, 1629, 1999)\n"
     ]
    }
   ],
   "source": [
    "from random import sample, choice\n",
    "def quicksort(seq):\n",
    "    if len(seq) <= 1:\n",
    "          return seq\n",
    "    l = tuple()\n",
    "    g = tuple()\n",
    "    p = choice(seq)\n",
    "    for i in seq:\n",
    "        if i < p:\n",
    "            l=l+tuple([i])\n",
    "        elif i>p:\n",
    "            g=g+tuple([i])\n",
    "    seq=seq+tuple([p])\n",
    "    return quicksort(l) + tuple([p]) + quicksort(g)\n",
    "\n",
    "a = tuple(sample(range(1000,2000), 1000))\n",
    "print(a)"
   ]
  },
  {
   "cell_type": "code",
   "execution_count": 141,
   "metadata": {},
   "outputs": [
    {
     "name": "stdout",
     "output_type": "stream",
     "text": [
      "(1000, 1001, 1002, 1003, 1004, 1005, 1006, 1007, 1008, 1009, 1010, 1011, 1012, 1013, 1014, 1015, 1016, 1017, 1018, 1019, 1020, 1021, 1022, 1023, 1024, 1025, 1026, 1027, 1028, 1029, 1030, 1031, 1032, 1033, 1034, 1035, 1036, 1037, 1038, 1039, 1040, 1041, 1042, 1043, 1044, 1045, 1046, 1047, 1048, 1049, 1050, 1051, 1052, 1053, 1054, 1055, 1056, 1057, 1058, 1059, 1060, 1061, 1062, 1063, 1064, 1065, 1066, 1067, 1068, 1069, 1070, 1071, 1072, 1073, 1074, 1075, 1076, 1077, 1078, 1079, 1080, 1081, 1082, 1083, 1084, 1085, 1086, 1087, 1088, 1089, 1090, 1091, 1092, 1093, 1094, 1095, 1096, 1097, 1098, 1099, 1100, 1101, 1102, 1103, 1104, 1105, 1106, 1107, 1108, 1109, 1110, 1111, 1112, 1113, 1114, 1115, 1116, 1117, 1118, 1119, 1120, 1121, 1122, 1123, 1124, 1125, 1126, 1127, 1128, 1129, 1130, 1131, 1132, 1133, 1134, 1135, 1136, 1137, 1138, 1139, 1140, 1141, 1142, 1143, 1144, 1145, 1146, 1147, 1148, 1149, 1150, 1151, 1152, 1153, 1154, 1155, 1156, 1157, 1158, 1159, 1160, 1161, 1162, 1163, 1164, 1165, 1166, 1167, 1168, 1169, 1170, 1171, 1172, 1173, 1174, 1175, 1176, 1177, 1178, 1179, 1180, 1181, 1182, 1183, 1184, 1185, 1186, 1187, 1188, 1189, 1190, 1191, 1192, 1193, 1194, 1195, 1196, 1197, 1198, 1199, 1200, 1201, 1202, 1203, 1204, 1205, 1206, 1207, 1208, 1209, 1210, 1211, 1212, 1213, 1214, 1215, 1216, 1217, 1218, 1219, 1220, 1221, 1222, 1223, 1224, 1225, 1226, 1227, 1228, 1229, 1230, 1231, 1232, 1233, 1234, 1235, 1236, 1237, 1238, 1239, 1240, 1241, 1242, 1243, 1244, 1245, 1246, 1247, 1248, 1249, 1250, 1251, 1252, 1253, 1254, 1255, 1256, 1257, 1258, 1259, 1260, 1261, 1262, 1263, 1264, 1265, 1266, 1267, 1268, 1269, 1270, 1271, 1272, 1273, 1274, 1275, 1276, 1277, 1278, 1279, 1280, 1281, 1282, 1283, 1284, 1285, 1286, 1287, 1288, 1289, 1290, 1291, 1292, 1293, 1294, 1295, 1296, 1297, 1298, 1299, 1300, 1301, 1302, 1303, 1304, 1305, 1306, 1307, 1308, 1309, 1310, 1311, 1312, 1313, 1314, 1315, 1316, 1317, 1318, 1319, 1320, 1321, 1322, 1323, 1324, 1325, 1326, 1327, 1328, 1329, 1330, 1331, 1332, 1333, 1334, 1335, 1336, 1337, 1338, 1339, 1340, 1341, 1342, 1343, 1344, 1345, 1346, 1347, 1348, 1349, 1350, 1351, 1352, 1353, 1354, 1355, 1356, 1357, 1358, 1359, 1360, 1361, 1362, 1363, 1364, 1365, 1366, 1367, 1368, 1369, 1370, 1371, 1372, 1373, 1374, 1375, 1376, 1377, 1378, 1379, 1380, 1381, 1382, 1383, 1384, 1385, 1386, 1387, 1388, 1389, 1390, 1391, 1392, 1393, 1394, 1395, 1396, 1397, 1398, 1399, 1400, 1401, 1402, 1403, 1404, 1405, 1406, 1407, 1408, 1409, 1410, 1411, 1412, 1413, 1414, 1415, 1416, 1417, 1418, 1419, 1420, 1421, 1422, 1423, 1424, 1425, 1426, 1427, 1428, 1429, 1430, 1431, 1432, 1433, 1434, 1435, 1436, 1437, 1438, 1439, 1440, 1441, 1442, 1443, 1444, 1445, 1446, 1447, 1448, 1449, 1450, 1451, 1452, 1453, 1454, 1455, 1456, 1457, 1458, 1459, 1460, 1461, 1462, 1463, 1464, 1465, 1466, 1467, 1468, 1469, 1470, 1471, 1472, 1473, 1474, 1475, 1476, 1477, 1478, 1479, 1480, 1481, 1482, 1483, 1484, 1485, 1486, 1487, 1488, 1489, 1490, 1491, 1492, 1493, 1494, 1495, 1496, 1497, 1498, 1499, 1500, 1501, 1502, 1503, 1504, 1505, 1506, 1507, 1508, 1509, 1510, 1511, 1512, 1513, 1514, 1515, 1516, 1517, 1518, 1519, 1520, 1521, 1522, 1523, 1524, 1525, 1526, 1527, 1528, 1529, 1530, 1531, 1532, 1533, 1534, 1535, 1536, 1537, 1538, 1539, 1540, 1541, 1542, 1543, 1544, 1545, 1546, 1547, 1548, 1549, 1550, 1551, 1552, 1553, 1554, 1555, 1556, 1557, 1558, 1559, 1560, 1561, 1562, 1563, 1564, 1565, 1566, 1567, 1568, 1569, 1570, 1571, 1572, 1573, 1574, 1575, 1576, 1577, 1578, 1579, 1580, 1581, 1582, 1583, 1584, 1585, 1586, 1587, 1588, 1589, 1590, 1591, 1592, 1593, 1594, 1595, 1596, 1597, 1598, 1599, 1600, 1601, 1602, 1603, 1604, 1605, 1606, 1607, 1608, 1609, 1610, 1611, 1612, 1613, 1614, 1615, 1616, 1617, 1618, 1619, 1620, 1621, 1622, 1623, 1624, 1625, 1626, 1627, 1628, 1629, 1630, 1631, 1632, 1633, 1634, 1635, 1636, 1637, 1638, 1639, 1640, 1641, 1642, 1643, 1644, 1645, 1646, 1647, 1648, 1649, 1650, 1651, 1652, 1653, 1654, 1655, 1656, 1657, 1658, 1659, 1660, 1661, 1662, 1663, 1664, 1665, 1666, 1667, 1668, 1669, 1670, 1671, 1672, 1673, 1674, 1675, 1676, 1677, 1678, 1679, 1680, 1681, 1682, 1683, 1684, 1685, 1686, 1687, 1688, 1689, 1690, 1691, 1692, 1693, 1694, 1695, 1696, 1697, 1698, 1699, 1700, 1701, 1702, 1703, 1704, 1705, 1706, 1707, 1708, 1709, 1710, 1711, 1712, 1713, 1714, 1715, 1716, 1717, 1718, 1719, 1720, 1721, 1722, 1723, 1724, 1725, 1726, 1727, 1728, 1729, 1730, 1731, 1732, 1733, 1734, 1735, 1736, 1737, 1738, 1739, 1740, 1741, 1742, 1743, 1744, 1745, 1746, 1747, 1748, 1749, 1750, 1751, 1752, 1753, 1754, 1755, 1756, 1757, 1758, 1759, 1760, 1761, 1762, 1763, 1764, 1765, 1766, 1767, 1768, 1769, 1770, 1771, 1772, 1773, 1774, 1775, 1776, 1777, 1778, 1779, 1780, 1781, 1782, 1783, 1784, 1785, 1786, 1787, 1788, 1789, 1790, 1791, 1792, 1793, 1794, 1795, 1796, 1797, 1798, 1799, 1800, 1801, 1802, 1803, 1804, 1805, 1806, 1807, 1808, 1809, 1810, 1811, 1812, 1813, 1814, 1815, 1816, 1817, 1818, 1819, 1820, 1821, 1822, 1823, 1824, 1825, 1826, 1827, 1828, 1829, 1830, 1831, 1832, 1833, 1834, 1835, 1836, 1837, 1838, 1839, 1840, 1841, 1842, 1843, 1844, 1845, 1846, 1847, 1848, 1849, 1850, 1851, 1852, 1853, 1854, 1855, 1856, 1857, 1858, 1859, 1860, 1861, 1862, 1863, 1864, 1865, 1866, 1867, 1868, 1869, 1870, 1871, 1872, 1873, 1874, 1875, 1876, 1877, 1878, 1879, 1880, 1881, 1882, 1883, 1884, 1885, 1886, 1887, 1888, 1889, 1890, 1891, 1892, 1893, 1894, 1895, 1896, 1897, 1898, 1899, 1900, 1901, 1902, 1903, 1904, 1905, 1906, 1907, 1908, 1909, 1910, 1911, 1912, 1913, 1914, 1915, 1916, 1917, 1918, 1919, 1920, 1921, 1922, 1923, 1924, 1925, 1926, 1927, 1928, 1929, 1930, 1931, 1932, 1933, 1934, 1935, 1936, 1937, 1938, 1939, 1940, 1941, 1942, 1943, 1944, 1945, 1946, 1947, 1948, 1949, 1950, 1951, 1952, 1953, 1954, 1955, 1956, 1957, 1958, 1959, 1960, 1961, 1962, 1963, 1964, 1965, 1966, 1967, 1968, 1969, 1970, 1971, 1972, 1973, 1974, 1975, 1976, 1977, 1978, 1979, 1980, 1981, 1982, 1983, 1984, 1985, 1986, 1987, 1988, 1989, 1990, 1991, 1992, 1993, 1994, 1995, 1996, 1997, 1998, 1999)\n"
     ]
    }
   ],
   "source": [
    "b = quicksort(a)\n",
    "print(b)"
   ]
  },
  {
   "cell_type": "markdown",
   "metadata": {},
   "source": [
    "## 3 Higher order functions (HOF)\n",
    " \n",
    "A _higher-order function_ is a function which operates on other functions. What this means exactly is disputed, but we will call any function which returns a function or takes a function as an argument a higher-order function. (Conversely, a function neither taking another function as input nor returning a function we will refer to as a _first-order function_)\n",
    "\n",
    "In R you have encountered these when, for instance, using the `apply` family of functions, which are all versions of what is called a `map` function in functional programming (see below).\n",
    "\n",
    "When using higher-order functions, it is often useful to create simple anonymous functions at the place in the code where they are used, rather than defining a new named function in one place only to call it in a single other place. In R, all functions are created in this way with the `function` keyword, but they are usually assigned to global names with standard assignment (`<-`). Python provides similar functionality using the `lambda` keyword (name inspired by Alonzo Church's [$\\lambda$-calculus](https://www.youtube.com/watch?v=eis11j_iGMs) which has inspired much of functional programming) with which we can create anonymous functions. Of course, we can also pass named functions to higher-order functions, which is usually the case when the function is predefined, general enough to be used in more than one place, or complex enough to warrant separate definition and documentation for the sake of clarity."
   ]
  },
  {
   "cell_type": "markdown",
   "metadata": {},
   "source": [
    "## 3.1 The three standard functions `map`, `reduce` and `filter`\n",
    "\n",
    "There are three standard cases which are widely applicable and many other higher-order functions are special cases or combinations of these. They are: `map`, apply a function on each element in a sequence, `filter`, keep (or conversely, remove) elements from a sequence according to some condition, and `reduce`, combine the elements in a sequence. The `map` function takes a sequence and a function (usually of 1 parameter) which is to be applied to each element of the sequence and might return anything, this function is assumed not to have side effects. The `filter` function takes a function (usually of 1 parameter) which returns a boolean value used to indicate which elements are to be kept. The `reduce` function takes a function (usually of 2 parameters) which is used to combine the elements in the sequence.\n",
    "\n",
    "In Python, `map` and `filter` are standard built-in functions. Since Python 3, the `reduce` function needs to be imported from the `functools` module.\n",
    "\n",
    "Many more advanced functions, of any order, can be created by combining these three higher-order functions.\n",
    "\n",
    "A note from last year: usually, the `reduce` function is more difficult to grasp than `map` and `filter` but I found this blog-post by André Burgaud to be a nice introduction to `reduce`. Note that Burgaud talks about the more general _fold_ concept rather than `reduce`, which is a special case of fold often called _left fold_ (this is covered in more detail in the post). https://www.burgaud.com/foldl-foldr-python/"
   ]
  },
  {
   "cell_type": "markdown",
   "metadata": {},
   "source": [
    "a) Implement a function `mysum` which computes the sum of a list or tuple of numbers using the reduce function and a lambda function."
   ]
  },
  {
   "cell_type": "code",
   "execution_count": 5,
   "metadata": {},
   "outputs": [
    {
     "data": {
      "text/plain": [
       "12"
      ]
     },
     "execution_count": 5,
     "metadata": {},
     "output_type": "execute_result"
    }
   ],
   "source": [
    "from functools import reduce\n",
    "\n",
    "def mysum(seq):\n",
    "    return reduce(lambda x, y: x+y ,seq)\n",
    "\n",
    "mysum((4, 7, 1))"
   ]
  },
  {
   "cell_type": "markdown",
   "metadata": {},
   "source": [
    "b) Implement a function `mylength` which uses `map` and `reduce` to compute the length of a sequence. The use of the `len` function is not allowed.\n",
    "\n",
    "[Hint: Use `map` to convert the input to something which can easily be `reduce`:d.]"
   ]
  },
  {
   "cell_type": "code",
   "execution_count": 25,
   "metadata": {},
   "outputs": [
    {
     "name": "stdout",
     "output_type": "stream",
     "text": [
      "5\n",
      "4\n"
     ]
    }
   ],
   "source": [
    "def mylength(seq):\n",
    "    return reduce(lambda x, y: x+y ,list(map(lambda x: 1 ,seq)))\n",
    "    \n",
    "print(mylength((4, 2, 5, 2, 5)))\n",
    "print(mylength(\"test\"))"
   ]
  },
  {
   "cell_type": "markdown",
   "metadata": {},
   "source": [
    "## 3.2 Building your own higher order functions"
   ]
  },
  {
   "cell_type": "markdown",
   "metadata": {},
   "source": [
    "a) Re-implement the three basic functional helper functions `map`, `filter` and `reduce` **as purely functional recursive functions**. You may not express this as eg comprehensions; the task is to practice figuring out this type of logic.\n",
    "\n",
    "Note that the built-in versions of these functions work on multiple sequences of equal length if supplied, however, you can assume a single sequence as second parameter, i.e. you can also skip the third parameter to reduce."
   ]
  },
  {
   "cell_type": "code",
   "execution_count": 83,
   "metadata": {},
   "outputs": [
    {
     "data": {
      "text/plain": [
       "[0, 1, 4, 9, 16, 25, 36, 49, 64, 81]"
      ]
     },
     "execution_count": 83,
     "metadata": {},
     "output_type": "execute_result"
    }
   ],
   "source": [
    "def mymap(f, seq):\n",
    "    return [f(i) for i in seq]\n",
    "\n",
    "mymap(lambda x:x**2, tuple(range(10)))"
   ]
  },
  {
   "cell_type": "code",
   "execution_count": 95,
   "metadata": {},
   "outputs": [
    {
     "data": {
      "text/plain": [
       "[0, 2, 4, 6, 8]"
      ]
     },
     "execution_count": 95,
     "metadata": {},
     "output_type": "execute_result"
    }
   ],
   "source": [
    "def myfilter(f, seq):\n",
    "    return [i for i in seq if f(i)==True ]\n",
    "\n",
    "myfilter(lambda x:x%2==0, tuple(range(10)))"
   ]
  },
  {
   "cell_type": "markdown",
   "metadata": {},
   "source": [
    "You might note the similarities with how you implemented `sum_even`."
   ]
  },
  {
   "cell_type": "code",
   "execution_count": 125,
   "metadata": {},
   "outputs": [
    {
     "data": {
      "text/plain": [
       "24"
      ]
     },
     "execution_count": 125,
     "metadata": {},
     "output_type": "execute_result"
    }
   ],
   "source": [
    "def myreduce(f, seq):\n",
    "    if len(seq)==1:\n",
    "        return seq[0]\n",
    "    else:\n",
    "        seq=seq[2:len(seq)]+tuple([f(seq[0],seq[1])])\n",
    "        return myreduce(f,seq)\n",
    "\n",
    "myreduce(lambda x, y: x*y, tuple(range(1,5)))\n"
   ]
  },
  {
   "cell_type": "markdown",
   "metadata": {},
   "source": [
    "## 3.3 Returning functions\n",
    "\n",
    "The previous section covered functions which take other functions as input, but what about the opposite, functions returning functions as output?"
   ]
  },
  {
   "cell_type": "markdown",
   "metadata": {},
   "source": [
    "a) Function composition is a common in both maths and programming. Write a function `compose` which takes two functions, $f$ and $g$, and produces the _composite_ function $f \\circ g$, where $(f \\circ g)(x) \\Leftrightarrow f(g(x))$. Example use is given below."
   ]
  },
  {
   "cell_type": "code",
   "execution_count": 421,
   "metadata": {
    "scrolled": true
   },
   "outputs": [
    {
     "name": "stdout",
     "output_type": "stream",
     "text": [
      "[-1.507556722888818, -1.2060453783110545, -0.9045340337332909, -0.6030226891555273, -0.30151134457776363, 0.0, 0.30151134457776363, 0.6030226891555273, 0.9045340337332909, 1.2060453783110545, 1.507556722888818]\n"
     ]
    }
   ],
   "source": [
    "from statistics import stdev, mean\n",
    "\n",
    "def compose(f, g):\n",
    "    def fn(x):\n",
    "        return f(g(x))\n",
    "    return fn\n",
    "    \n",
    "\n",
    "def myscale(vals):\n",
    "    return [x/stdev(vals) for x in vals]\n",
    "\n",
    "def myshift(vals):\n",
    "    return [x-mean(vals) for x in vals]\n",
    "\n",
    "standardize = compose(myscale, myshift)\n",
    "\n",
    "print(standardize(range(-3, 8)))"
   ]
  },
  {
   "cell_type": "markdown",
   "metadata": {},
   "source": [
    "b) Create a function `composition(*funs)` which takes a non-empty sequence of functions of one argument and returns their sequential composition. That is $composition(f_0,f_1, \\ldots, f_n) = f_0 \\circ f_1 \\circ\\ldots \\circ f_n$. (The question of if $f\\circ g \\circ h$ should be read $f\\circ (g\\circ h)$ or $(f \\circ g) \\circ h$ is perfectly valid, but they turn out to be the same. That is, $\\circ$ is associative.)"
   ]
  },
  {
   "cell_type": "code",
   "execution_count": 422,
   "metadata": {},
   "outputs": [
    {
     "name": "stdout",
     "output_type": "stream",
     "text": [
      "[-1.507556722888818, -1.2060453783110545, -0.9045340337332909, -0.6030226891555273, -0.30151134457776363, 0.0, 0.30151134457776363, 0.6030226891555273, 0.9045340337332909, 1.2060453783110545, 1.507556722888818]\n"
     ]
    }
   ],
   "source": [
    "def composition(*funs):\n",
    "    def compose(f, g):\n",
    "        def fn(x):\n",
    "            return f(g(x))\n",
    "        return fn\n",
    "    return reduce(compose, [*funs])\n",
    "\n",
    "standardize = composition(myscale, myshift)\n",
    "print(standardize(range(-3, 8)))"
   ]
  },
  {
   "cell_type": "markdown",
   "metadata": {},
   "source": [
    "Hint: Don't remember what can be found in `*funs`? Print it! Don't know how the values should be combined? Write out some simple example on paper."
   ]
  },
  {
   "cell_type": "markdown",
   "metadata": {},
   "source": [
    "Note: This task demonstrates the generality of our constructs. Previously we worked with sequences of numbers and the like. Now we lift this to the level of working with functions as values, and instead of using combinators which work on numbers, we use function combinators in conjunction with our known patterns."
   ]
  },
  {
   "cell_type": "markdown",
   "metadata": {},
   "source": [
    "### Voluntary task: pipelining\n",
    "\n",
    "When doing data analysis, one very important part is pre-processing. Often, data goes through a number of steps of preprocessing, sometimes called a pipeline. The function composition example above can be seen as a special case of such a pipeline for only two functions. By clever use of higher order functions, we can build a pipeline function which takes a list or tuple of data transforming functions and creates a function which applies these sequentially. Construct such a function called `make_pipeline`. In order to focus on the primary purpose of the `make_pipeline` function, we will perform a very simple set of transformations, increment each value by 1, take the absolute value, and then take the square root. Usage example and code for the `inc` function is supplied below.\n",
    "\n",
    "You may want to use functions you have defined above."
   ]
  },
  {
   "cell_type": "code",
   "execution_count": 489,
   "metadata": {
    "scrolled": false
   },
   "outputs": [
    {
     "data": {
      "text/plain": [
       "(2.0,\n",
       " 1.7320508075688772,\n",
       " 1.4142135623730951,\n",
       " 1.0,\n",
       " 0.0,\n",
       " 1.0,\n",
       " 1.4142135623730951,\n",
       " 1.7320508075688772,\n",
       " 2.0,\n",
       " 2.23606797749979)"
      ]
     },
     "execution_count": 489,
     "metadata": {},
     "output_type": "execute_result"
    }
   ],
   "source": [
    "from functools import reduce, partial\n",
    "from math import sqrt \n",
    "\n",
    "\n",
    "def make_pipeline(*funs):\n",
    "    return lambda vals:[[*funs][-1](item) for item in ([reduce(lambda f,g:g(f(i)), [*funs][:-1]) for i in vals])]\n",
    "\n",
    "\n",
    "# We can even drop the lambda vals : bit, using partial\n",
    "# evaluation (see the help for functools.partial!)\n",
    "\n",
    "def inc(x):\n",
    "    return x+1\n",
    "\n",
    "pipeline = make_pipeline(inc, abs,sqrt)\n",
    "tuple(pipeline(range(-5,5)))"
   ]
  },
  {
   "cell_type": "markdown",
   "metadata": {},
   "source": [
    "## 4. Simple declarative Pythonic patterns (involing HOF)"
   ]
  },
  {
   "cell_type": "markdown",
   "metadata": {},
   "source": [
    "a) As preparation, create a named tuple type \"coord\" which has fields `x` and `y`."
   ]
  },
  {
   "cell_type": "code",
   "execution_count": 490,
   "metadata": {},
   "outputs": [],
   "source": [
    "# Add the requisite import statement here\n",
    "from collections import namedtuple \n",
    "coord = namedtuple('Coord',['x','y'])\n",
    "    \n",
    "five_three = coord(5,3)\n",
    "assert five_three.x == 5, \"first element is the x coordinate\"\n",
    "assert five_three.y == 3, \"the second element is the y coordinate\""
   ]
  },
  {
   "cell_type": "markdown",
   "metadata": {},
   "source": [
    "b) Generate a $10^7$ random coordinates, with $x$ and $y$ coordinates drawn uniformly from [-1000,1000]. Save the tuple of those with $x + y > 0$ as `rnd_coords`. How many are there?"
   ]
  },
  {
   "cell_type": "code",
   "execution_count": 392,
   "metadata": {},
   "outputs": [
    {
     "data": {
      "text/plain": [
       "5001050"
      ]
     },
     "execution_count": 392,
     "metadata": {},
     "output_type": "execute_result"
    }
   ],
   "source": [
    "from random import uniform\n",
    "\n",
    "rnd_coords=tuple(filter(lambda k: k.x+k.y>0,[coord(uniform(-1000,1000),uniform(-1000,1000)) for i in range(10000000)]))\n",
    "len(rnd_coords)"
   ]
  },
  {
   "cell_type": "markdown",
   "metadata": {},
   "source": [
    "[Note: If this takes a while, you might want to consider when the elements are generated and saved.]"
   ]
  },
  {
   "cell_type": "markdown",
   "metadata": {},
   "source": [
    "**Before having solved the tasks below, consider setting `coords` to a smaller set (eg generate $10^3$ elements instead of $10^7$ to start with).**"
   ]
  },
  {
   "cell_type": "markdown",
   "metadata": {},
   "source": [
    "c) Let `sorted_rnd` be the coordinated sorted first by the `x` component and then the `y`. Use a built-in Python sorting function. Do you need any extra parameters? Why? Why not? How would you find out where the order comes from (and might it be consistent but useless, eg sorting the elements by memory location)?"
   ]
  },
  {
   "cell_type": "code",
   "execution_count": 393,
   "metadata": {},
   "outputs": [
    {
     "name": "stdout",
     "output_type": "stream",
     "text": [
      "sorted_rndx[0:10]:  \n",
      " [Coord(x=-999.5737591191834, y=999.6279520008911), Coord(x=-999.5702844587615, y=999.9715841193747), Coord(x=-999.510103842207, y=999.7285819085052), Coord(x=-998.7380477492438, y=999.9628027956771), Coord(x=-998.5596392425617, y=999.3933176609578), Coord(x=-998.3478860389639, y=999.327503563429), Coord(x=-998.1572833368431, y=998.1824700585541), Coord(x=-997.9008667351936, y=999.6679349322637), Coord(x=-997.80468085866, y=998.516031366189), Coord(x=-997.6296136361236, y=998.7214584352846)]\n"
     ]
    }
   ],
   "source": [
    "#sorted by x\n",
    "sorted_rndx = sorted(rnd_coords,key=lambda k:k.x) # your code here\n",
    "print (\"sorted_rndx[0:10]: \",'\\n', sorted_rndx[0:10])"
   ]
  },
  {
   "cell_type": "code",
   "execution_count": 394,
   "metadata": {},
   "outputs": [
    {
     "name": "stdout",
     "output_type": "stream",
     "text": [
      "Successful\n"
     ]
    }
   ],
   "source": [
    "#test function for x\n",
    "def test_x():\n",
    "    for i in range(len(sorted_rndx)-1):\n",
    "        if sorted_rndx[i].x>sorted_rndx[i].x:\n",
    "            print(\"The function doesn't work\")\n",
    "            break\n",
    "    print(\"Successful\")\n",
    "test_x()"
   ]
  },
  {
   "cell_type": "code",
   "execution_count": 395,
   "metadata": {},
   "outputs": [
    {
     "name": "stdout",
     "output_type": "stream",
     "text": [
      "sorted_rndy[0:10]:  \n",
      " [Coord(x=999.7929288262005, y=-998.9701194779599), Coord(x=999.1874595211079, y=-998.581324416479), Coord(x=999.8545008986534, y=-998.5628854285243), Coord(x=999.8251562067769, y=-998.376838458853), Coord(x=999.2800298809159, y=-998.2566978185451), Coord(x=999.514877661949, y=-998.0056878668054), Coord(x=998.0812800178851, y=-997.9906563728163), Coord(x=999.201994286391, y=-997.9082845725565), Coord(x=998.1568997588076, y=-997.7434509023228), Coord(x=999.1959752693185, y=-997.7267259478082)]\n"
     ]
    }
   ],
   "source": [
    "#sorted by y\n",
    "sorted_rndy = sorted(rnd_coords,key=lambda k:k.y) # your code here\n",
    "print (\"sorted_rndy[0:10]: \",'\\n', sorted_rndy[0:10])"
   ]
  },
  {
   "cell_type": "code",
   "execution_count": 396,
   "metadata": {},
   "outputs": [
    {
     "name": "stdout",
     "output_type": "stream",
     "text": [
      "Successful\n"
     ]
    }
   ],
   "source": [
    "#test function for y\n",
    "def test_y():\n",
    "    for i in range(len(sorted_rndx)-1):\n",
    "        if sorted_rndy[i].y>sorted_rndy[i].y:\n",
    "            print(\"The function doesn't work\")\n",
    "            break\n",
    "    print(\"Successful\")\n",
    "test_y()"
   ]
  },
  {
   "cell_type": "code",
   "execution_count": 397,
   "metadata": {},
   "outputs": [],
   "source": [
    "#We do not need the extra parameters, we can use the way to call element in coordinate to define the key.\n"
   ]
  },
  {
   "cell_type": "markdown",
   "metadata": {},
   "source": [
    "[General words of advice:\n",
    "\n",
    "* During testing, you might want to use a smaller data set (and then try it out at a larger set).\n",
    "* You might not want to display the entire list to see if you're right all the time. Slicing out the first and last elements, say the first or last 10, might provide some hints.\n",
    "* You could naturally define a function which checks that the list is in order (or performs some probabilistic sampling test), to test this.]"
   ]
  },
  {
   "cell_type": "markdown",
   "metadata": {},
   "source": [
    "d) Sort the values (in the sense of returning a new sorted tuple) by their Euclidean distance to the point (5,3). Continue using a built-in Python sorting function."
   ]
  },
  {
   "cell_type": "code",
   "execution_count": 399,
   "metadata": {},
   "outputs": [
    {
     "data": {
      "text/plain": [
       "(Coord(x=5.446747372074924, y=3.608251908757211),\n",
       " Coord(x=5.687150237853075, y=3.34700288241163),\n",
       " Coord(x=5.617619341947716, y=2.5286610624881405),\n",
       " Coord(x=4.818495604302484, y=2.171322510813525))"
      ]
     },
     "execution_count": 399,
     "metadata": {},
     "output_type": "execute_result"
    }
   ],
   "source": [
    "from numpy import sqrt\n",
    "pts_near_53 = tuple(sorted(rnd_coords,key=lambda k:sqrt((k.x-5)**2+(k.y-3)**2)))\n",
    "pts_near_53[1:5]"
   ]
  },
  {
   "cell_type": "markdown",
   "metadata": {},
   "source": [
    "Note: here we customise the behaviour of a built-in function by passing it information about our intended ordering."
   ]
  },
  {
   "cell_type": "markdown",
   "metadata": {},
   "source": [
    "d) Define the function `sorted_by_distance(origo)` which takes a coordinate `origo` and returns a function which sorts the sequence by the euclidean distance to `origo`. (Ie those closest to origo come first in the list.)"
   ]
  },
  {
   "cell_type": "code",
   "execution_count": 400,
   "metadata": {},
   "outputs": [],
   "source": [
    "def sorted_by_distance(origo):\n",
    "    def t(coords):\n",
    "        return tuple(sorted(coords,key=lambda k:sqrt((k.x-origo.x)**2+(k.y-origo.y)**2)))\n",
    "    return t\n",
    "\n",
    "ordered_by_closeness_to_53 = sorted_by_distance(coord(5,3))   # Return the function.\n",
    "pts_near_53_2 = ordered_by_closeness_to_53(rnd_coords)     # Applying the function \n",
    "\n",
    "assert pts_near_53 == pts_near_53_2"
   ]
  },
  {
   "cell_type": "markdown",
   "metadata": {},
   "source": [
    "[Note: Here we extend the work above to a higher-order function, which uses the local value of `origo`. In essence, this task summarises higher order functionality - we create a closure, return a function and use a custom ordering ]"
   ]
  },
  {
   "cell_type": "markdown",
   "metadata": {},
   "source": [
    "e) So far in the course, we have seen, and possibly used `enumerate`, `range`, `zip`, `map` and `filter` as declarative constructs (along with the general comprehension syntax). Now we introduce a further useful iterator construct. Construct something called `reverse_squared` which when prompted would give us the squares of elements 0,...,N _but in reverse_ (that is $N^2, (N-1)^2, ..., 2^2, 1^2, 0^2$)."
   ]
  },
  {
   "cell_type": "code",
   "execution_count": 401,
   "metadata": {},
   "outputs": [],
   "source": [
    "# The time it takes to run this shouldn't really depend on if you use SMALL_N or BIG_N.\n",
    "\n",
    "BIG_N = 99999999\n",
    "SMALL_N = 999\n",
    "\n",
    "N = SMALL_N    # change this to test later on\n",
    "\n",
    "reverse_squares = None# your code here\n",
    "reverse_squares =sorted(map(lambda k: k**2, range(N+1)),reverse=True)"
   ]
  },
  {
   "cell_type": "code",
   "execution_count": 402,
   "metadata": {
    "scrolled": true
   },
   "outputs": [
    {
     "name": "stdout",
     "output_type": "stream",
     "text": [
      "Did we find it?  True\n",
      "         65 function calls in 0.001 seconds\n",
      "\n",
      "   Ordered by: standard name\n",
      "\n",
      "   ncalls  tottime  percall  cumtime  percall filename:lineno(function)\n",
      "        5    0.000    0.000    0.000    0.000 :0(acquire)\n",
      "        5    0.000    0.000    0.000    0.000 :0(append)\n",
      "        1    0.000    0.000    0.001    0.001 :0(exec)\n",
      "        4    0.000    0.000    0.000    0.000 :0(getpid)\n",
      "        4    0.000    0.000    0.000    0.000 :0(isinstance)\n",
      "        1    0.000    0.000    0.001    0.001 :0(print)\n",
      "        1    0.000    0.000    0.000    0.000 :0(setprofile)\n",
      "        1    0.000    0.000    0.001    0.001 <string>:1(<module>)\n",
      "        5    0.000    0.000    0.000    0.000 iostream.py:195(schedule)\n",
      "        4    0.000    0.000    0.000    0.000 iostream.py:307(_is_master_process)\n",
      "        4    0.000    0.000    0.000    0.000 iostream.py:320(_schedule_flush)\n",
      "        4    0.000    0.000    0.001    0.000 iostream.py:382(write)\n",
      "        5    0.000    0.000    0.000    0.000 iostream.py:93(_event_pipe)\n",
      "        1    0.000    0.000    0.001    0.001 profile:0(print('Did we find it? ', 998001 in reverse_squares))\n",
      "        0    0.000             0.000          profile:0(profiler)\n",
      "        5    0.000    0.000    0.000    0.000 socket.py:334(send)\n",
      "        5    0.000    0.000    0.000    0.000 threading.py:1038(_wait_for_tstate_lock)\n",
      "        5    0.000    0.000    0.000    0.000 threading.py:1080(is_alive)\n",
      "        5    0.000    0.000    0.000    0.000 threading.py:507(is_set)\n",
      "\n",
      "\n"
     ]
    }
   ],
   "source": [
    "# Experimentation: copy and paste your code from above into this cell.\n",
    "# This is rather crude, but we want you to to be able to trust that any\n",
    "# slowness in the cell above can be found by reference to that code, not the\n",
    "# profiling code below.\n",
    "\n",
    "# Copy-pasting as it might be useful to have fresh maps.\n",
    "\n",
    "\n",
    "import profile\n",
    "\n",
    "# We cut and paste this code \n",
    "BIG_N = 99999999\n",
    "SMALL_N = 999\n",
    "\n",
    "N = SMALL_N\n",
    "# Look at the run time. Switching from BIG_N to SMALL_N shouldn't really matter.\n",
    "# This suggests that we have quick access to elements at the end of our (squared) range.\n",
    "\n",
    "reverse_squares = sorted(map(lambda k: k**2, range(N+1)),reverse=True) # <<----------- Your code from the cell above goes here.\n",
    "\n",
    "\n",
    "profile.run(\"print('Did we find it? ', {} in reverse_squares)\".format( N**2 ))"
   ]
  },
  {
   "cell_type": "markdown",
   "metadata": {},
   "source": [
    "Note: once you know of the construct, this task is extremely simple. It mostly serves as a demonstration of the availability of these constructs, and how they can be combined. Also, it points to efficiency considerations when using declarative iterator constructs as opposed to fixed computed structures.\n",
    "\n",
    "As the profiling code above suggests, where we redefine the object in every run, we do not have a purely functional construct. In that case, we wouldn't be able to exhaust the values."
   ]
  },
  {
   "cell_type": "markdown",
   "metadata": {},
   "source": [
    "[Additional reading: some additional tools are available in the `itertools` module.]"
   ]
  },
  {
   "cell_type": "markdown",
   "metadata": {},
   "source": [
    "## 5 Mutating function state\n",
    "\n",
    "A function always has access to the environment in which it was created. Usually, this means that the function can access global variables. It also means that it can access and modify local bindings from where it was created.\n",
    "\n",
    "A closure is a function which has access to an environment which is not accessible from outside the function (but which is not destroyed when the function returns). I.e. it is a way to introduce a small measure of statefulness into functional programming. In Python, iterators and generators work much like this. However, we can use the general concept in many cases."
   ]
  },
  {
   "cell_type": "markdown",
   "metadata": {},
   "source": [
    "a) Implement a function `make_counter` which has a single parameter `n` which acts as the initial value for a counter. The function should return a function with no parameters which, when called, increments the value of `n` by 1 and returns the new value."
   ]
  },
  {
   "cell_type": "code",
   "execution_count": 32,
   "metadata": {},
   "outputs": [
    {
     "name": "stdout",
     "output_type": "stream",
     "text": [
      "To show that the functions do not affect each others' states, consider the printout:\n",
      "counter_A returns: 1\n",
      "counter_A returns: 1\n",
      "counter_B returns: 16\n",
      "counter_A returns: 1 (was it affected by the call to counter_B?)\n"
     ]
    }
   ],
   "source": [
    "def make_counter(n):\n",
    "    def counter():\n",
    "        return n+1\n",
    "    return counter\n",
    "\n",
    "counter_A = make_counter(0)\n",
    "counter_B = make_counter(15)\n",
    "print(\"To show that the functions do not affect each others' states, consider the printout:\")\n",
    "print(\"counter_A returns: {}\".format(counter_A()))\n",
    "print(\"counter_A returns: {}\".format(counter_A()))\n",
    "print(\"counter_B returns: {}\".format(counter_B()))\n",
    "print(\"counter_A returns: {} (was it affected by the call to counter_B?)\".format(counter_A()))"
   ]
  },
  {
   "cell_type": "markdown",
   "metadata": {},
   "source": [
    "## 6. Use case: parametrisation\n",
    "\n",
    "Above, we see how `sorted` can be parametrised with information about the intended order. We want to extend our `quicksort` to work the same way. We should be able to provide the way for it to tell if object A in the tuple should come before object B, or after. This is done by mapping the objects onto something where we do have an order."
   ]
  },
  {
   "cell_type": "markdown",
   "metadata": {},
   "source": [
    "a) Copy your code from the `quicksort` task above, and extend it. Call the function `quicksort_param` for parametrised, and allow a key parameter to be passed in (like in `sorted`). Note that the key function should be optional. We thus want default arguments."
   ]
  },
  {
   "cell_type": "code",
   "execution_count": 194,
   "metadata": {},
   "outputs": [
    {
     "name": "stdout",
     "output_type": "stream",
     "text": [
      "((0.17623448021167132, 0.17058549762439623, 0.08828529220961512), (0.7761383129638393, 0.4178244142867328, 0.07408033059513952), (0.983702150018643, 0.04637093945803317, 0.22442172958665063), (0.6907346174839676, 0.27084441602578035, 0.5658806143274095), (0.8575722796096923, 0.1476851412535859, 0.30705940165644463), (0.20594084017679593, 0.10770852701194555, 0.216167132850408), (0.19954245381331503, 0.3447676867558721, 0.5905736764809625), (0.3784185317928379, 0.1309110018356846, 0.6288003393694195), (0.48067293837254965, 0.8933467759451199, 0.35435288759566297), (0.10142576830504568, 0.8704143622687348, 0.238375329929279))\n",
      "(0.43510527004568267, 0.5298165000391495, 1.1348838170501496, 1.138129872997942, 1.2102154605030595, 1.2544948190633267, 1.2680430578457118, 1.312316822519723, 1.5274596478371576, 1.7283726019133325)\n",
      "(2, 5, 9, 200)\n"
     ]
    }
   ],
   "source": [
    "from random import random\n",
    "def quicksort(seq):\n",
    "    if len(seq) <= 1:\n",
    "          return seq\n",
    "    l = tuple()\n",
    "    g = tuple()\n",
    "    p = choice(seq)\n",
    "    for i in seq:\n",
    "        if i < p:\n",
    "            l=l+tuple([i])\n",
    "        elif i>p:\n",
    "            g=g+tuple([i])\n",
    "    seq=seq+tuple([p])\n",
    "    return quicksort(l) + tuple([p]) + quicksort(g)\n",
    "\n",
    "# Write quicksort_param here:\n",
    "def quicksort_param(seq,*f):\n",
    "    if f==():\n",
    "        return quicksort(tuple(seq))\n",
    "    else:\n",
    "        return quicksort(tuple(map(f[0],seq))) \n",
    "    \n",
    "\n",
    "a = tuple(tuple(random() for i in range(3)) for j in range(10))\n",
    "print(a)\n",
    "b = quicksort_param(a, sum)   # Elements are three-tuples. Those with smallest sums of values should come first.\n",
    "print(b)\n",
    "print(quicksort_param([5,2,9,200]))   # No key function provided."
   ]
  },
  {
   "cell_type": "markdown",
   "metadata": {},
   "source": [
    "## Attribution\n",
    "\n",
    "Lab by Johan Falkenjack (2018), extended and rewritten by Anders Märak Leffler (2019).\n",
    "\n",
    "License [CC-BY-SA 4.0](https://creativecommons.org/licenses/by-sa/4.0/)"
   ]
  }
 ],
 "metadata": {
  "kernelspec": {
   "display_name": "Python 3",
   "language": "python",
   "name": "python3"
  },
  "language_info": {
   "codemirror_mode": {
    "name": "ipython",
    "version": 3
   },
   "file_extension": ".py",
   "mimetype": "text/x-python",
   "name": "python",
   "nbconvert_exporter": "python",
   "pygments_lexer": "ipython3",
   "version": "3.7.1"
  }
 },
 "nbformat": 4,
 "nbformat_minor": 2
}
