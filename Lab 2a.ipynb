{
 "cells": [
  {
   "cell_type": "markdown",
   "metadata": {},
   "source": [
    "# Laboration 2A"
   ]
  },
  {
   "cell_type": "markdown",
   "metadata": {},
   "source": [
    "---\n",
    "**Student:** jiawu449 (Jiawei Wu)\n",
    "\n",
    "**Student:** vinbe289 (Vinay Bengaluru Ashwath Narayan Murthy)\n",
    "\n",
    "---"
   ]
  },
  {
   "cell_type": "markdown",
   "metadata": {},
   "source": [
    "# Introduction \n",
    "In this first part of the lab, we will be exploring \n",
    "* Functions\n",
    "    * How functions are called.\n",
    "    * Argument passing\n",
    "    * Return values.\n",
    "* Function usage\n",
    "    * Construction of simple multi-function programs.\n",
    "    * Functions that work on several kinds of inputs (ie simple polymorphism via duck typing).\n",
    "\n",
    "Additionally we will touch upon\n",
    "* Exceptions and \n",
    "* simple assertion testing and debugging."
   ]
  },
  {
   "cell_type": "markdown",
   "metadata": {},
   "source": [
    "This lab might require you to search for information on your own to a larger extent than in lab 1. As in the last lab, Lutz' Learning Python and the [official documentation](https://docs.python.org) might be helpful. Also make sure to make use of the available lab assistance!"
   ]
  },
  {
   "cell_type": "markdown",
   "metadata": {},
   "source": [
    "# Handin instruction"
   ]
  },
  {
   "cell_type": "markdown",
   "metadata": {},
   "source": [
    "This lab consists of two parts, 2A and 2B (on functional and declarative patterns). After you've finished lab 2A, hand it in straight away (using the name 2a as the lab name). You do not need to wait until you've finished lab 2B."
   ]
  },
  {
   "cell_type": "markdown",
   "metadata": {},
   "source": [
    "## Functions in Python"
   ]
  },
  {
   "cell_type": "markdown",
   "metadata": {},
   "source": [
    "a) Write a function that takes a radius and returns area of a circle with that radius. What would be a good name for the function and the argument? Python has a value for $\\pi$ in a certain standard library module. Which might that be? Don't type in the constant yourself."
   ]
  },
  {
   "cell_type": "code",
   "execution_count": 1,
   "metadata": {},
   "outputs": [],
   "source": [
    "from math import pi\n",
    "def S(r):\n",
    "    S=pi*r**2\n",
    "    print(\"For radius\", r, \"the area of the circle is\", S)\n",
    "    return(S)"
   ]
  },
  {
   "cell_type": "code",
   "execution_count": 2,
   "metadata": {},
   "outputs": [
    {
     "name": "stdout",
     "output_type": "stream",
     "text": [
      "For radius 4 the area of the circle is 50.26548245743669\n"
     ]
    },
    {
     "data": {
      "text/plain": [
       "50.26548245743669"
      ]
     },
     "execution_count": 2,
     "metadata": {},
     "output_type": "execute_result"
    }
   ],
   "source": [
    "S(4)"
   ]
  },
  {
   "cell_type": "markdown",
   "metadata": {},
   "source": [
    "[Hint: Google. Or consider modules we have `import`ed previously.]"
   ]
  },
  {
   "cell_type": "markdown",
   "metadata": {},
   "source": [
    "b) How would you call the function, if you wanted to calculate the area of a circle with radius 10cm?"
   ]
  },
  {
   "cell_type": "code",
   "execution_count": 3,
   "metadata": {},
   "outputs": [
    {
     "name": "stdout",
     "output_type": "stream",
     "text": [
      "For radius 10 the area of the circle is 314.1592653589793\n"
     ]
    },
    {
     "data": {
      "text/plain": [
       "314.1592653589793"
      ]
     },
     "execution_count": 3,
     "metadata": {},
     "output_type": "execute_result"
    }
   ],
   "source": [
    "S(10)"
   ]
  },
  {
   "cell_type": "markdown",
   "metadata": {},
   "source": [
    "c) How would you call the function using named arguments/keyword arguments?"
   ]
  },
  {
   "cell_type": "code",
   "execution_count": 4,
   "metadata": {},
   "outputs": [
    {
     "name": "stdout",
     "output_type": "stream",
     "text": [
      "For radius 18 the area of the circle is 1017.8760197630929\n"
     ]
    },
    {
     "data": {
      "text/plain": [
       "1017.8760197630929"
      ]
     },
     "execution_count": 4,
     "metadata": {},
     "output_type": "execute_result"
    }
   ],
   "source": [
    "S(r=18)"
   ]
  },
  {
   "cell_type": "markdown",
   "metadata": {},
   "source": [
    "[Note: In this case, the calling of the function is somewhat artificial. When writing scripts or working with programs that take several parameters, this style can be quite useful. This sidesteps questions of if this particular library takes the input or the output as the first argument, or the like. The code of course becomes more verbose.]"
   ]
  },
  {
   "cell_type": "markdown",
   "metadata": {},
   "source": [
    "d) Write a function `circle_area_safe(radius)` which uses an if statement to check that the radius is positive and prints `The radius must be positive` to the screen if it is not, and otherwise calls the `circle_area` function. Also, if the radius is not positive the `circle_area_safe` function should signal to the code calling it that it has failed by returning `None`."
   ]
  },
  {
   "cell_type": "code",
   "execution_count": 5,
   "metadata": {},
   "outputs": [],
   "source": [
    "def circle_area_safe(radius):\n",
    "    if radius <= 0:\n",
    "        print(\"The radius must be positive\")\n",
    "        return(None)\n",
    "    else:\n",
    "        return(S(radius))"
   ]
  },
  {
   "cell_type": "code",
   "execution_count": 8,
   "metadata": {},
   "outputs": [
    {
     "name": "stdout",
     "output_type": "stream",
     "text": [
      "The radius must be positive\n"
     ]
    }
   ],
   "source": [
    "circle_area_safe(8)"
   ]
  },
  {
   "cell_type": "markdown",
   "metadata": {},
   "source": [
    "e) Recreate the `circle_area_safe` function (call this version `circle_area_safer`) but instead of printing a message to the screen and returning `None` if the radius is negative, _raise_ a ValueError exception with suitable error message as argument."
   ]
  },
  {
   "cell_type": "code",
   "execution_count": 9,
   "metadata": {},
   "outputs": [],
   "source": [
    "def circle_area_safer(radius):\n",
    "    if radius <= 0:\n",
    "        raise ValueError('The radius must be positive')\n",
    "        return(None)\n",
    "    else:\n",
    "        return(S(radius))\n",
    "    "
   ]
  },
  {
   "cell_type": "code",
   "execution_count": 10,
   "metadata": {},
   "outputs": [
    {
     "name": "stdout",
     "output_type": "stream",
     "text": [
      "For radius 9 the area of the circle is 254.46900494077323\n"
     ]
    },
    {
     "data": {
      "text/plain": [
       "254.46900494077323"
      ]
     },
     "execution_count": 10,
     "metadata": {},
     "output_type": "execute_result"
    }
   ],
   "source": [
    "circle_area_safer(-8)"
   ]
  },
  {
   "cell_type": "markdown",
   "metadata": {},
   "source": [
    "f) To test out how functions are called in Python, create a function `print_num_args` that prints the number of arguments it has been called with. The count should not include keyword arguments."
   ]
  },
  {
   "cell_type": "code",
   "execution_count": 9,
   "metadata": {
    "scrolled": true
   },
   "outputs": [
    {
     "name": "stdout",
     "output_type": "stream",
     "text": [
      "3\n"
     ]
    }
   ],
   "source": [
    "# Your definition goes here.\n",
    "def print_num_args(*num):\n",
    "    n=0\n",
    "    for i in num:\n",
    "        n=n+1\n",
    "    print(n)\n",
    "    \n",
    "#def print_num_args1(*num):\n",
    "#   return(len(num))\n",
    "    \n",
    "print_num_args(1,2,3)  # Should print the number 3."
   ]
  },
  {
   "cell_type": "markdown",
   "metadata": {},
   "source": [
    "g) Write a function `print_kwargs` that prints all the keyword arguments."
   ]
  },
  {
   "cell_type": "code",
   "execution_count": 13,
   "metadata": {
    "scrolled": true
   },
   "outputs": [
    {
     "name": "stdout",
     "output_type": "stream",
     "text": [
      "The 2 regular arguments are:\n",
      "alonzo\n",
      "zeno\n",
      "\n",
      "And the keyword arguments are (the ordering here is arbitrary):\n",
      "foo is set to 2\n",
      "bar is set to 99\n"
     ]
    },
    {
     "data": {
      "text/plain": [
       "'Should print:\\n\\nThe 2 regular arguments are:\\n0: alonzo\\n1: zeno\\n\\nAnd the keyword arguments are (the ordering here is arbitrary):\\nfoo is set to 2\\nbar is set to 99\\n'"
      ]
     },
     "execution_count": 13,
     "metadata": {},
     "output_type": "execute_result"
    }
   ],
   "source": [
    "# Your definition goes here\n",
    "def print_kwargs(*reg, **kwd):\n",
    "    print(\"The\",len(reg),\"regular arguments are:\")\n",
    "    for i in reg:\n",
    "        print(i)\n",
    "        \n",
    "    print(\"\\nAnd the keyword arguments are (the ordering here is arbitrary):\")\n",
    "    for key, value in kwd.items():\n",
    "        print(\"{} is set to {}\".format(key,value))\n",
    "    \n",
    "\n",
    "pass\n",
    "\n",
    "print_kwargs(\"alonzo\", \"zeno\", foo=1+1,bar = 99)\n",
    "\"\"\"Should print:\n",
    "\n",
    "The 2 regular arguments are:\n",
    "0: alonzo\n",
    "1: zeno\n",
    "\n",
    "And the keyword arguments are (the ordering here is arbitrary):\n",
    "foo is set to 2\n",
    "bar is set to 99\n",
    "\"\"\"\n"
   ]
  },
  {
   "cell_type": "markdown",
   "metadata": {},
   "source": [
    "h) Below we have a very simple program. Run the first cell. It will succeed. What happens when you run the second cell, and why? In particular, consider the error produced. What does it mean. What value has been returned from the function, and how would you modify the function in order for it to work?"
   ]
  },
  {
   "cell_type": "code",
   "execution_count": 19,
   "metadata": {},
   "outputs": [
    {
     "name": "stdout",
     "output_type": "stream",
     "text": [
      "10255\n"
     ]
    }
   ],
   "source": [
    "def my_polynomial(x):\n",
    "    print(x**2 + 30 + 225)\n",
    "\n",
    "polyval = my_polynomial(100)"
   ]
  },
  {
   "cell_type": "code",
   "execution_count": 22,
   "metadata": {},
   "outputs": [
    {
     "name": "stdout",
     "output_type": "stream",
     "text": [
      "10255\n"
     ]
    },
    {
     "ename": "TypeError",
     "evalue": "unsupported operand type(s) for *: 'int' and 'NoneType'",
     "output_type": "error",
     "traceback": [
      "\u001b[1;31m---------------------------------------------------------------------------\u001b[0m",
      "\u001b[1;31mTypeError\u001b[0m                                 Traceback (most recent call last)",
      "\u001b[1;32m<ipython-input-22-094ebebe5dec>\u001b[0m in \u001b[0;36m<module>\u001b[1;34m()\u001b[0m\n\u001b[1;32m----> 1\u001b[1;33m \u001b[0mdouble_the_polyval\u001b[0m \u001b[1;33m=\u001b[0m \u001b[1;36m2\u001b[0m\u001b[1;33m*\u001b[0m\u001b[0mmy_polynomial\u001b[0m\u001b[1;33m(\u001b[0m\u001b[1;36m100\u001b[0m\u001b[1;33m)\u001b[0m\u001b[1;33m\u001b[0m\u001b[0m\n\u001b[0m\u001b[0;32m      2\u001b[0m \u001b[1;31m#Because the function doesn't return the result value, it only print out a result. So the function return to a none value and it is not a int. So we cannot\u001b[0m\u001b[1;33m\u001b[0m\u001b[1;33m\u001b[0m\u001b[0m\n\u001b[0;32m      3\u001b[0m \u001b[1;31m#calculate 2*my_polynomial(100) here. However, the function will print out the result of x**2 + 30 + 225, so it still has a value printed.\u001b[0m\u001b[1;33m\u001b[0m\u001b[1;33m\u001b[0m\u001b[0m\n",
      "\u001b[1;31mTypeError\u001b[0m: unsupported operand type(s) for *: 'int' and 'NoneType'"
     ]
    }
   ],
   "source": [
    "double_the_polyval = 2*my_polynomial(100)\n",
    "#Because the function doesn't return the result value, it only print out a result. So the function return to a none value and it is not a int. So we cannot\n",
    "#calculate 2*my_polynomial(100) here. However, the function will print out the result of x**2 + 30 + 225, so it still has a value printed."
   ]
  },
  {
   "cell_type": "code",
   "execution_count": 30,
   "metadata": {},
   "outputs": [
    {
     "name": "stdout",
     "output_type": "stream",
     "text": [
      "10255\n"
     ]
    },
    {
     "data": {
      "text/plain": [
       "20510"
      ]
     },
     "execution_count": 30,
     "metadata": {},
     "output_type": "execute_result"
    }
   ],
   "source": [
    "# Write your answer as a code comment here. \n",
    "def my_polynomial_new(x):\n",
    "    print(x**2 + 30 + 225)\n",
    "    return(x**2 + 30 + 225)\n",
    "\n",
    "double_the_polyval = 2*my_polynomial_new(100)\n",
    "double_the_polyval"
   ]
  },
  {
   "cell_type": "markdown",
   "metadata": {},
   "source": [
    "## Script/program construction (a tiny example)"
   ]
  },
  {
   "cell_type": "markdown",
   "metadata": {},
   "source": [
    "Regardless of which programming language we use, we will likely construct programs or scripts that consist of several functions that work in concert. Below we will create a very simple Monte Carlo simulation as a basis for breaking down a larger (though small) problem into sensible, (re)usable discrete pieces. The resulting program will likely utilise control structures that you have read about before."
   ]
  },
  {
   "cell_type": "markdown",
   "metadata": {},
   "source": [
    "a) The following is a well-known procedure for approximating $\\pi$: pick $n$ uniformly randomly selected coordinates in an $2R\\times 2R$ square. Count the number of the points that fall within the circle of radius $R$ with its center at $(R,R)$. The fraction of these points to the total number of points is used to approximate $\\pi$ (exactly how is for you to figure out). (Note that this is not to be confused with MCMC.)\n",
    "\n",
    "Write a program consisting of several (aptly selected and named) functions, that present the user with the following simple text user interface. The <span style=\"background: yellow;\">yellow</span> text is an example of user input (the user is prompted, and enters the value). It then prints the results of the simulations:"
   ]
  },
  {
   "cell_type": "markdown",
   "metadata": {},
   "source": [
    "`pi_simulation()`\n",
    "\n",
    "<p style=\"font-family: console, monospace\">Welcome to the Monty Carlo PI program!</p>\n",
    "\n",
    "<p style=\"font-family: console, monospace\">\n",
    "Please enter a number of points (or the letter \"q\" to quit): <span style=\"background: yellow;\">100</span><br/>\n",
    "Using 100 points we (this time) got the following value for pi: 3.08<br/>\n",
    "This would mean that tau (2xPI) would be: 6.16\n",
    "</p>\n",
    "\n",
    "<p style=\"font-family: console, monospace\">\n",
    "Please enter a number of points (or the letter \"q\" to quit): <span style=\"background: yellow;\">100</span><br/>\n",
    "Using 100 points we (this time) got the following value for pi: 3.12<br/>\n",
    "This would mean that tau (2xPI) would be: 6.24\n",
    "</p>\n",
    "\n",
    "<p style=\"font-family: console, monospace\">\n",
    "Please enter a number of points (or the letter \"q\" to quit): <span style=\"background: yellow;\">q</span>\n",
    "</p>\n",
    "\n",
    "<p style=\"font-family: console, monospace\">\n",
    "Thank you for choosing Monty Carlo.\n",
    "</p>"
   ]
  },
  {
   "cell_type": "markdown",
   "metadata": {},
   "source": [
    "[**Note**: This is a task largely about program structure. Unless there are substantial performance drawbacks, prefer readability over optimisation.]"
   ]
  },
  {
   "cell_type": "markdown",
   "metadata": {},
   "source": [
    "---\n",
    "** REMEMBER: YOU DO NOT WRITE CODE FOR THE INTERPRETER. YOU WRITE IT FOR OTHER HUMAN READERS. **\n",
    "\n",
    "---\n",
    "\n",
    "An important part of programming is to allow a reader who is perhaps unfamiliar with the code to be able to understand it, and convince themselves that it is correct with respect to specification. There should also be as few surprises as possible."
   ]
  },
  {
   "cell_type": "code",
   "execution_count": 14,
   "metadata": {},
   "outputs": [
    {
     "name": "stdout",
     "output_type": "stream",
     "text": [
      "Welcome to the Monty Carlo PI program!\n",
      "\n",
      "Please enter a number of points (or the letter 'q' to quit):100\n",
      "Using  100  points we (this time) got the following value for pi: 3.16\n",
      "This would mean that tau (2xPI) would be:  6.32 \n",
      "\n",
      "Please enter a number of points (or the letter 'q' to quit):1000\n",
      "Using  1000  points we (this time) got the following value for pi: 3.056\n",
      "This would mean that tau (2xPI) would be:  6.112 \n",
      "\n",
      "Please enter a number of points (or the letter 'q' to quit):10000\n",
      "Using  10000  points we (this time) got the following value for pi: 3.1024\n",
      "This would mean that tau (2xPI) would be:  6.2048 \n",
      "\n",
      "Please enter a number of points (or the letter 'q' to quit):100\n",
      "Using  100  points we (this time) got the following value for pi: 2.88\n",
      "This would mean that tau (2xPI) would be:  5.76 \n",
      "\n",
      "Please enter a number of points (or the letter 'q' to quit):q\n",
      "\n",
      "Thank you for choosing Monty Carlo.\n"
     ]
    }
   ],
   "source": [
    "import random\n",
    "def pi_simulation():\n",
    "    print(\"Welcome to the Monty Carlo PI program!\\n\")\n",
    "    var=1\n",
    "    while var == 1 :\n",
    "        \n",
    "        n=input(\"Please enter a number of points (or the letter 'q' to quit):\" )\n",
    "        if n==\"q\":\n",
    "            print(\"\\nThank you for choosing Monty Carlo.\")\n",
    "            break\n",
    "        else:\n",
    "            n=int(n)\n",
    "            k=0\n",
    "            for i in range(n):\n",
    "                x=random.uniform(1,2)\n",
    "                y=random.uniform(1,2)\n",
    "                if ((x-1)**2+(y-1)**2)<1:\n",
    "                    k=k+1\n",
    "            pi=4*k/n\n",
    "            print(\"Using \",n,\" points we (this time) got the following value for pi:\",pi)\n",
    "            print(\"This would mean that tau (2xPI) would be: \",2*pi,\"\\n\")\n",
    "    \n",
    "    \n",
    "pi_simulation()"
   ]
  },
  {
   "cell_type": "markdown",
   "metadata": {},
   "source": [
    "[Hint: You might want to consider the function `input`. Try it out and see what type of value it returns.]"
   ]
  },
  {
   "cell_type": "markdown",
   "metadata": {},
   "source": [
    "b) One feature of Python's simplicity is the possibility to (comparatively) quickly produce code to try out our intuitions. Let's say we want to compare how well our approximation performs, as compared to some gold standard for pi (here: the version in the standard library). Run 100 simulations. How large is the maximum relative error (using the definition above) in this particular run of simulations, if each simulation has $n=10^4$ points? Is it larger or smaller than 5%? Write code that returns this maximum relative error."
   ]
  },
  {
   "cell_type": "code",
   "execution_count": 15,
   "metadata": {
    "scrolled": true
   },
   "outputs": [
    {
     "data": {
      "text/plain": [
       "0.033611185546011474"
      ]
     },
     "execution_count": 15,
     "metadata": {},
     "output_type": "execute_result"
    }
   ],
   "source": [
    "def mre(n,t):\n",
    "    percm=0\n",
    "    from math import pi\n",
    "    for m in range(t):\n",
    "        k=0\n",
    "        for i in range(n):\n",
    "            x=random.uniform(1,2)\n",
    "            y=random.uniform(1,2)\n",
    "            if ((x-1)**2+(y-1)**2)<1:\n",
    "                k=k+1\n",
    "        PI=4*k/n\n",
    "        perc=abs(pi-PI)/pi\n",
    "        if percm<=perc:\n",
    "            percm=perc\n",
    "    return(percm)\n",
    "\n",
    "mre(1000,100)\n",
    "\n",
    "#The result is smaller than 5%."
   ]
  },
  {
   "cell_type": "markdown",
   "metadata": {},
   "source": [
    "[Note: This is only to show a quick way of testing out your code in a readable fashion. You might want to try to write it in a pythonic way. But in terms of performance, it is very likely that the true bottleneck will still be the approximation function itself.]"
   ]
  },
  {
   "cell_type": "markdown",
   "metadata": {},
   "source": [
    "## Fault/bugspotting and tests in a very simple setting"
   ]
  },
  {
   "cell_type": "markdown",
   "metadata": {},
   "source": [
    "It is inevitable that we will make mistakes when programming. An important skill is not only to be able to write code in the first place, but also to be able to figure where one would start looking for faults. This also involves being able to make the expectations we have on the program more explicit, and at the very least construct some sets of automatic \"sanity checks\" for the program. The latter will likely not be something done for every piece of code you write, but it is highly useful for code that might be reused or is hard to understand (due either to programming reasons, or because the underlying mathemetics is dense). When rewriting or optimising code, having such tests are also highly useful to provide hints that the changes haven't broken the code."
   ]
  },
  {
   "cell_type": "markdown",
   "metadata": {},
   "source": [
    "**Task**: The following program is supposed to return the sum of the squares of numbers $0,...,n$."
   ]
  },
  {
   "cell_type": "code",
   "execution_count": 33,
   "metadata": {},
   "outputs": [],
   "source": [
    "# Do not modify this code! You'll fix it later.\n",
    "\n",
    "def update_result(result, i):\n",
    "    result = result + i*i\n",
    "    return result\n",
    "\n",
    "def sum_squares(n):\n",
    "    result = 0\n",
    "    for i in range(n):\n",
    "        result = update_result(n, result)"
   ]
  },
  {
   "cell_type": "markdown",
   "metadata": {},
   "source": [
    "a) What mistakes have the programmer made when trying to solve the problem? Name the mistakes in coding or thinking about the issue that you notice (regardless of if they affect the end result). In particular, write down what is wrong (not just \"line X should read ...\"; fixing the code comes later). Feel free to make a copy of the code (pressing `b` in a notebook creates a new cell below) and try it out, add relevant print statements, assertions or anything else that might help. Note down how you spotted the faults."
   ]
  },
  {
   "cell_type": "code",
   "execution_count": 17,
   "metadata": {},
   "outputs": [],
   "source": [
    "#First of all, the order of arguments of calling update_result are wrong in sum_squares function. And the argument \"i\" in update_result function are\n",
    "#defined uncorrectly in sum_squares function. Also, the function does not return a value."
   ]
  },
  {
   "cell_type": "code",
   "execution_count": 18,
   "metadata": {},
   "outputs": [
    {
     "name": "stdout",
     "output_type": "stream",
     "text": [
      "0\n",
      "3 3\n",
      "3\n",
      "3 12\n",
      "12\n",
      "3 147\n"
     ]
    }
   ],
   "source": [
    "def update_result(result, i):\n",
    "    result = result + i*i\n",
    "    return result\n",
    "\n",
    "def sum_squares(n):\n",
    "    result = 0\n",
    "    for i in range(n):\n",
    "        print(result)\n",
    "        result = update_result(n, result)\n",
    "        print(n,result)\n",
    "        \n",
    "sum_squares(3)"
   ]
  },
  {
   "cell_type": "markdown",
   "metadata": {},
   "source": [
    "b) Write a few simple assertions that should pass if the code was correct. Don't forget to include the *why* of the test, preferably in the error message provided in the `AssertionError` if the test fails."
   ]
  },
  {
   "cell_type": "code",
   "execution_count": 19,
   "metadata": {
    "scrolled": false
   },
   "outputs": [
    {
     "ename": "AssertionError",
     "evalue": "The function should give a return value",
     "output_type": "error",
     "traceback": [
      "\u001b[0;31m---------------------------------------------------------------------------\u001b[0m",
      "\u001b[0;31mAssertionError\u001b[0m                            Traceback (most recent call last)",
      "\u001b[0;32m<ipython-input-19-4781a3d62779>\u001b[0m in \u001b[0;36m<module>\u001b[0;34m\u001b[0m\n\u001b[1;32m     17\u001b[0m     \u001b[0mprint\u001b[0m\u001b[0;34m(\u001b[0m\u001b[0;34m\"--- test_sum_squares finished successfully\"\u001b[0m\u001b[0;34m)\u001b[0m\u001b[0;34m\u001b[0m\u001b[0;34m\u001b[0m\u001b[0m\n\u001b[1;32m     18\u001b[0m \u001b[0;34m\u001b[0m\u001b[0m\n\u001b[0;32m---> 19\u001b[0;31m \u001b[0mtest_sum_squares\u001b[0m\u001b[0;34m(\u001b[0m\u001b[0;34m)\u001b[0m\u001b[0;34m\u001b[0m\u001b[0;34m\u001b[0m\u001b[0m\n\u001b[0m",
      "\u001b[0;32m<ipython-input-19-4781a3d62779>\u001b[0m in \u001b[0;36mtest_sum_squares\u001b[0;34m()\u001b[0m\n\u001b[1;32m     13\u001b[0m \u001b[0;34m\u001b[0m\u001b[0m\n\u001b[1;32m     14\u001b[0m     \u001b[0;32mfor\u001b[0m \u001b[0marg\u001b[0m\u001b[0;34m,\u001b[0m \u001b[0moutput\u001b[0m\u001b[0;34m,\u001b[0m \u001b[0merror_msg\u001b[0m \u001b[0;32min\u001b[0m \u001b[0mtests\u001b[0m\u001b[0;34m:\u001b[0m\u001b[0;34m\u001b[0m\u001b[0;34m\u001b[0m\u001b[0m\n\u001b[0;32m---> 15\u001b[0;31m         \u001b[0;32massert\u001b[0m \u001b[0msum_squares\u001b[0m\u001b[0;34m(\u001b[0m\u001b[0marg\u001b[0m\u001b[0;34m)\u001b[0m \u001b[0;34m==\u001b[0m \u001b[0moutput\u001b[0m\u001b[0;34m,\u001b[0m \u001b[0merror_msg\u001b[0m\u001b[0;34m\u001b[0m\u001b[0;34m\u001b[0m\u001b[0m\n\u001b[0m\u001b[1;32m     16\u001b[0m \u001b[0;34m\u001b[0m\u001b[0m\n\u001b[1;32m     17\u001b[0m     \u001b[0mprint\u001b[0m\u001b[0;34m(\u001b[0m\u001b[0;34m\"--- test_sum_squares finished successfully\"\u001b[0m\u001b[0;34m)\u001b[0m\u001b[0;34m\u001b[0m\u001b[0;34m\u001b[0m\u001b[0m\n",
      "\u001b[0;31mAssertionError\u001b[0m: The function should give a return value"
     ]
    }
   ],
   "source": [
    "def test_sum_squares():\n",
    "    \n",
    "    # Format: ( input, expected output, error message )\n",
    "    # You may replace these with namedtuples if you want to.\n",
    "    \n",
    "    tests = (\n",
    "        # ( input, expected_output , error_message ), \n",
    "        ( 0, 0, 'The function should give a return value'), \n",
    "        ( 2, 5, 'The sum of square from 0 to 2 should be 5'),\n",
    "        ( 3, 14, 'The sum of square from 0 to 2 should be 5')\n",
    "    )\n",
    "        # Add more test cases here.\n",
    "    \n",
    "    for arg, output, error_msg in tests:\n",
    "        assert sum_squares(arg) == output, error_msg\n",
    "    \n",
    "    print(\"--- test_sum_squares finished successfully\")\n",
    "        \n",
    "test_sum_squares()"
   ]
  },
  {
   "cell_type": "markdown",
   "metadata": {},
   "source": [
    "[Note: Might there be any corner/edge cases here?]"
   ]
  },
  {
   "cell_type": "code",
   "execution_count": 20,
   "metadata": {},
   "outputs": [],
   "source": [
    "#I don't think there are any corner/edge cases here."
   ]
  },
  {
   "cell_type": "markdown",
   "metadata": {},
   "source": [
    "c) Write a correct version of the code, which conforms to the specification."
   ]
  },
  {
   "cell_type": "code",
   "execution_count": 21,
   "metadata": {},
   "outputs": [
    {
     "name": "stdout",
     "output_type": "stream",
     "text": [
      "--- test_sum_squares finished successfully\n"
     ]
    }
   ],
   "source": [
    "pass # Your code here\n",
    "def update_result(result, i):\n",
    "    result = result + i*i\n",
    "    return result\n",
    "\n",
    "def sum_squares(n):\n",
    "    result = 0\n",
    "    for i in range(n):\n",
    "        result = update_result(result, i+1)\n",
    "    return(result)\n",
    "    \n",
    "\n",
    "test_sum_squares()   # It should pass all the tests!"
   ]
  },
  {
   "cell_type": "markdown",
   "metadata": {},
   "source": [
    "[Note: This is also a rather primitive testing strategy, but it is sometimes enough. If we wanted to provide more advanced testing facilities, we might eg use a proper unit test framework, or use tools to do property based testing. This, as well as formal verification, is outside the scope of this course.\n",
    "\n",
    "Those interested in testing might want to consult the web page for the IDA course [TDDD04 Software testing](https://www.ida.liu.se/~TDDD04/) or the somewhat abbreviation-heavy book by [Ammann & Offutt](https://cs.gmu.edu/~offutt/softwaretest/), which apparently also features video lectures.]"
   ]
  },
  {
   "cell_type": "markdown",
   "metadata": {},
   "source": [
    "## Polymorphic behaviour (via duck typing)"
   ]
  },
  {
   "cell_type": "markdown",
   "metadata": {},
   "source": [
    "In Python we often write functions that can handle several different types of data. A common pattern is writing code which is expected to work with several types of collections of data, for instance. This expectation is however in the mind of the programmer (at least without type annotations), and not something that the interpreter will enforce until runtime. This provides a lot of flexibility, but also requires us to understand what our code means for the different kinds of input. Below we try this out, and in particular return to previously known control structures."
   ]
  },
  {
   "cell_type": "markdown",
   "metadata": {},
   "source": [
    "a) Write a function `last_idx` that takes two arguments `seq` and `elem` and returns the index of the last occurrence of the element `elem` in the iterable `seq`. If the sequence doesn't contain the element, return -1. (You may not use built-ins like .find() here.)"
   ]
  },
  {
   "cell_type": "code",
   "execution_count": 22,
   "metadata": {},
   "outputs": [],
   "source": [
    "def last_idx(seq, elem):\n",
    "    if type(seq)==str:\n",
    "        seqn=seq.split()\n",
    "    elif type(seq)==dict:\n",
    "        seqn=list(seq.values())\n",
    "        keys=list(seq.keys())\n",
    "    else:\n",
    "        seqn=seq\n",
    "    if elem in seqn:\n",
    "        n = []\n",
    "        for i in range(len(seqn)):\n",
    "            if seqn[i]==elem:\n",
    "                n.append(i)\n",
    "        n=max(n)\n",
    "        if type(seq)==dict:\n",
    "            n=keys[n]\n",
    "        return n\n",
    "    else:\n",
    "        return -1\n",
    "    \n",
    "    pass # Your code here."
   ]
  },
  {
   "cell_type": "markdown",
   "metadata": {},
   "source": [
    "b) What does your function require of the input? In particular, your answer should include if it would work with a string, a list or a dictionary. In the latter case, what would `elem` be matched against?"
   ]
  },
  {
   "cell_type": "code",
   "execution_count": 23,
   "metadata": {},
   "outputs": [],
   "source": [
    "#The function can work with string list and a dictionary.\n",
    "#In the dictionary, the elem will match the value of the dictionary and return the key as index."
   ]
  },
  {
   "cell_type": "markdown",
   "metadata": {},
   "source": [
    "c) Add some `assert`-style tests that your code should satisfy. For each test, provide a description of what it tests, and why. That can be made as part of the assert statement itself."
   ]
  },
  {
   "cell_type": "code",
   "execution_count": 24,
   "metadata": {},
   "outputs": [
    {
     "name": "stdout",
     "output_type": "stream",
     "text": [
      "--- test_last_idx finished successfully\n"
     ]
    }
   ],
   "source": [
    "def test_last_idx():\n",
    "    \n",
    "    # Format: ( (seq, elem), expected output, error message )\n",
    "    # You may replace these with namedtuples if you want to.\n",
    "    \n",
    "    tests = ( \n",
    "        ( ([1,2,3,2], 2), 3, \"last_idx should return last index, for sequences with several occurrences\"), \n",
    "        (('It is dead, that is what is wrong with it. This is an ex-\"Parrot\"..', 'is'),11,\"last_idx had better work with string\"),\n",
    "        ( ({'Gender':'Male','Algebra':8,'History':13}, 8), 'Algebra', \"last_idx had better work with dictionary and return the keys\"),\n",
    "        ( ([1,2,3,2], 3), 2, \"The index returned might be wrong\")\n",
    "        # Add more test cases here.\n",
    "    )\n",
    "    \n",
    "    for args, output, error_msg in tests:\n",
    "        assert last_idx(*args) == output, error_msg     # last_idx takes two arguments. We unpack the tuple.\n",
    "    \n",
    "    print(\"--- test_last_idx finished successfully\")\n",
    "        \n",
    "test_last_idx()"
   ]
  },
  {
   "cell_type": "markdown",
   "metadata": {},
   "source": [
    "The fact that a program doesn't crash when given a certain input doesn't necessarily ensure that the results are what  we expect. Thus we need to get a feel for how eg iteration over different types of data behaves, in order to understand how our function behaves."
   ]
  },
  {
   "cell_type": "markdown",
   "metadata": {},
   "source": [
    "d) Can we use `last_idx` with a text file? What would the program try to match `elem` against? What would the return value signify (eg number of words from the start of the file, lines from the start of the file, bytes read...)?"
   ]
  },
  {
   "cell_type": "code",
   "execution_count": 25,
   "metadata": {},
   "outputs": [
    {
     "name": "stdout",
     "output_type": "stream",
     "text": [
      "Student Amadeus scored 8 on the Algebra exam and 13 on the History exam\n",
      "Student Rosa scored 19 on the Algebra exam and 22 on the History exam\n",
      "Student Mona scored 6 on the Algebra exam and 27 on the History exam\n",
      "Student Ludwig scored 12 on the Algebra exam and 18 on the History exam\n",
      "Student Karl scored 14 on the Algebra exam and 10 on the History exam\n",
      "\n"
     ]
    },
    {
     "data": {
      "text/plain": [
       "65"
      ]
     },
     "execution_count": 25,
     "metadata": {},
     "output_type": "execute_result"
    }
   ],
   "source": [
    "elem='10'\n",
    "with open(\"students.txt\") as file:\n",
    "    seq=file.read()\n",
    "print(seq)\n",
    "last_idx(seq, elem)"
   ]
  },
  {
   "cell_type": "code",
   "execution_count": 26,
   "metadata": {},
   "outputs": [],
   "source": [
    "#We can use last_idx with a text file. The program will try to match 'elem' against each word in the file. It will return the number of word from the \n",
    "#start of the file."
   ]
  },
  {
   "cell_type": "markdown",
   "metadata": {},
   "source": [
    "[Hint: Try it out! Open a file like in lab 1, using a `with` statement, and pass the file handle to the function. What is the easiest way for you to check what the function is comparing?]"
   ]
  },
  {
   "cell_type": "markdown",
   "metadata": {},
   "source": [
    "### Attribution\n",
    "\n",
    "Lab created by Anders Märak Leffler (2019), using some material by Johan Falkenjack. Feel free to reuse the material, but do so with attribution. License [CC-BY-SA 4.0](https://creativecommons.org/licenses/by-sa/4.0/)."
   ]
  }
 ],
 "metadata": {
  "kernelspec": {
   "display_name": "Python 3",
   "language": "python",
   "name": "python3"
  },
  "language_info": {
   "codemirror_mode": {
    "name": "ipython",
    "version": 3
   },
   "file_extension": ".py",
   "mimetype": "text/x-python",
   "name": "python",
   "nbconvert_exporter": "python",
   "pygments_lexer": "ipython3",
   "version": "3.6.5"
  }
 },
 "nbformat": 4,
 "nbformat_minor": 2
}
